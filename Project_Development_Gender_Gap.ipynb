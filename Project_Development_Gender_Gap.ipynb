{ 
  "cells": [
    {
      "cell_type": "markdown",
      "metadata": {
        "id": "view-in-github",
        "colab_type": "text"
      },
      "source": [
        "<a href=\"https://colab.research.google.com/github/Mikikn/gender-pay-gap-project/blob/main/Project_Development_Gender_Gap.ipynb\" target=\"_parent\"><img src=\"https://colab.research.google.com/assets/colab-badge.svg\" alt=\"Open In Colab\"/></a>"
      ]
    },
    {
      "cell_type": "markdown",
      "source": [
        "\n",
        "## Project Title: Analyzing the Gender Pay Gap in the UK Finance Sector: A Comprehensive Approach\n"
      ],
      "metadata": {
        "id": "8VlvYzVvMW_Q"
      }
    },
    {
      "cell_type": "markdown",
      "source": [
        "## Outcome 2: Collect data safely and securely.\n",
        "\n",
        "\n",
        "\n",
        "\n"
      ],
      "metadata": {
        "id": "o-x5nARsOF7Q"
      }
    },
    {
      "cell_type": "markdown",
      "source": [
        "### (a) Data Identification and Sources\n",
        "\n",
        "The essential data for this analysis encompasses critical details like EmployerName, PostCode, SicCodes, and various gender pay gap metrics. This invaluable information was sourced from the official Gender Pay Gap Reporting guidance at [gov.uk](https://www.gov.uk/government/publications/gender-pay-gap-reporting-guidance-for-employers). Furthermore, the dataset can be directly downloaded from the official Gender Pay Gap Service at [gov.uk](https://gender-pay-gap.service.gov.uk/viewing/download).\n",
        "\n",
        "The dataset is composed of seven CSV files, spanning the years from 2017 to 2023. In addition, the Postcodes Master CSV file was obtained from my Moodle course(more convenient resource compared to the National Statistics Postcode source, which is a larger size and demands substantial transformation for practical application)."
      ],
      "metadata": {
        "id": "qdTXPIZ-Tz35"
      }
    },
    {
      "cell_type": "markdown",
      "source": [
        "\n",
        "### (b) Dataset Assembly\n",
        "For assembling the dataset, I used Python and Power BI. Python was used initially for cleaning the data, while Power BI was employed for subsequent analysis and transformation. In Python, I gathered data from [gov.uk](https://gender-pay-gap.service.gov.uk/viewing/download) using website links in Google Colab. I merged datasets together using a concatenating function. After the cleaning process, it was subsequently converted into CSV format and downloaded from colab then, I securely saved the data on OneDrive at Edinburgh College, residing within a designated folder labeled 'Finance Gender Gap'. The file itself was named 'cleaned_finance_gender_gap' for easy reference. For comparison purposes, I also directly downloaded the seven individual datasets and saved them to OneDrive at Edinburgh College under a folder named 'Trail Finance Gender Gap'. I then connected to Power BI using the 'connect folder' option, allowing me to combine and load the data. I discovered a striking similarity between the datasets obtained through both methods after the cleaning process. One notable advantage of using Python is its ability to source data via URL, eliminating the need for re-cleaning if the source updates. Conversely, Power BI shines in its user-friendliness, especially when it comes to connecting and combining datasets without the need for coding and extensive cleaning. This prepared the data for further analysis and transformation in Power BI.\n"
      ],
      "metadata": {
        "id": "2einXsYRTHMC"
      }
    },
    {
      "cell_type": "markdown",
      "source": [
        "### (c) Secure Data Storage\n",
        "I took extra measures to securely store the datasets. They are now safely housed in a designated OneDrive folder at Edinburgh College. Since  I used open-source dataset information, there aren't significant concerns about privacy. However, for the sake of this project's progress, I've currently limited access to only David and Rik. Once I've presented and received their feedback, I'll adjust the folder's accessibility to make it available to the public."
      ],
      "metadata": {
        "id": "P3Wch0havWGN"
      }
    },
    {
      "cell_type": "markdown",
      "source": [
        "### (d) Bias Considerations\n",
        "While going through the dataset, I noticed something interesting. When I looked at the files covering the year 2023 to 2024, one of them was much smaller, only 155KB. The others were quite a bit larger, around 2.7MB or more.\n",
        "\n",
        "Upon further investigation, it became evident that this discrepancy may indicate an incomplete representation of data for the entire year. As a result, to ensure the integrity and accuracy of my analysis, I have made the decision to exclude this particular dataset from my examination.\n",
        "\n",
        "Additionally, in the postal code file, I encountered instances where a single postcode was associated with two different regions (Scotland and England). After careful consideration, I determined that the correct region should be based on the first entry. Consequently, I have taken the necessary steps to remove the second entry.\n",
        "\n",
        "This precautionary measure serves to mitigate potential biases that could arise from an incomplete dataset, and thereby, enhances the reliability of the insights generated from my analysis."
      ],
      "metadata": {
        "id": "V67LjW2M3yjV"
      }
    },
    {
      "cell_type": "markdown",
      "source": [
        "\n",
        "### (e) Impact of Data Quality Issues\n",
        "When preparing the dataset for analysis, I performed the following steps in Google Colab:\n",
        "\n",
        "- Dropped Rows with Missing Values:\n",
        "           cleaned_data = cleaned_data.drop(columns=columns_to_drop)\n",
        "\n",
        "cleaned_data = original_data.dropna()\n",
        "\n",
        "- Removing unnecessary columns\n",
        "      columns_to_drop =\n",
        "                    ['PostcodeArea', 'CompanyLinkToGPGInfo', 'ResponsiblePerson',\n",
        "                   'EmployerId', 'Address', 'CompanyNumber', 'CurrentName',\n",
        "                   'SubmittedAfterTheDeadline', 'DueDate', 'DateSubmitted']\n",
        "\n",
        "By executing these steps, I ensured that the dataset is cleaned and focused only on the relevant information, which is essential for accurate and meaningful analysis. This process helps improve data quality, streamline analysis, and facilitate the creation of visualizations and models.\n"
      ],
      "metadata": {
        "id": "Aa-WutrNeOal"
      }
    },
    {
      "cell_type": "markdown",
      "source": [
        "## Outcome 3: Analyzing Data for Insights.\n"
      ],
      "metadata": {
        "id": "Auenxx17WBkg"
      }
    },
    {
      "cell_type": "markdown",
      "source": [
        "\n",
        "### (a) Data Preparation and Pre-processing\n",
        "\n",
        "Having investigated what cleaning is required, this is where I took action.\n",
        "\n",
        "I worked with a dataset containing 59,099 entries and 28 columns. Here's what I did to prepare and pre-process the data:\n",
        "\n",
        "- Handling Missing Values:\n",
        "\n",
        "I noticed missing values in columns like Address, PostCode, CompanyNumber, SicCodes, DiffMeanBonusPercent, and others.\n",
        "\n",
        "- Handling Duplicate Entries:\n",
        "\n",
        "Fortunately, I didn't find any duplicate entries in the dataset.\n",
        "\n",
        "- Removing Unnecessary Columns:\n",
        "\n",
        "I decided to remove columns like 'EmployerId', 'SubmittedAfterTheDeadline', 'DueDate', 'DateSubmitted', and others that weren't necessary for my analysis."
      ],
      "metadata": {
        "id": "BU0RESQ6Wlaz"
      }
    },
    {
      "cell_type": "code",
      "execution_count": null,
      "metadata": {
        "id": "sKB6LKFdkaX4"
      },
      "outputs": [],
      "source": [
        "import pandas as pd\n",
        "\n",
        "file_urls = [\n",
        "    \"https://gender-pay-gap.service.gov.uk/viewing/download-data/2017\",\n",
        "    \"https://gender-pay-gap.service.gov.uk/viewing/download-data/2018\",\n",
        "    \"https://gender-pay-gap.service.gov.uk/viewing/download-data/2019\",\n",
        "    \"https://gender-pay-gap.service.gov.uk/viewing/download-data/2020\",\n",
        "    \"https://gender-pay-gap.service.gov.uk/viewing/download-data/2021\",\n",
        "    \"https://gender-pay-gap.service.gov.uk/viewing/download-data/2022\"\n",
        "]\n",
        "\n",
        "# Initialize an empty list to hold DataFrames\n",
        "dfs = []\n",
        "\n",
        "# Load and process each CSV file\n",
        "for url in file_urls:\n",
        "    # Load CSV\n",
        "    df = pd.read_csv(url)\n",
        "\n",
        "    # Extract the year from the URL\n",
        "    year = int(url.split(\"/\")[-1])\n",
        "\n",
        "    # Add a 'Year' column with the extracted year\n",
        "    df['Year'] = year\n",
        "\n",
        "    # Append the DataFrame to the list\n",
        "    dfs.append(df)\n",
        "\n",
        "# Concatenate all DataFrames\n",
        "combined_data = pd.concat(dfs, ignore_index=True)\n"
      ]
    },
    {
      "cell_type": "code",
      "execution_count": null,
      "metadata": {
        "id": "uClWKYQ5jrc6",
        "colab": {
          "base_uri": "https://localhost:8080/"
        },
        "outputId": "1b36d597-e9b0-470e-9a72-c5a4fcd9771a"
      },
      "outputs": [
        {
          "output_type": "stream",
          "name": "stdout",
          "text": [
            "<class 'pandas.core.frame.DataFrame'>\n",
            "RangeIndex: 59103 entries, 0 to 59102\n",
            "Data columns (total 28 columns):\n",
            " #   Column                     Non-Null Count  Dtype  \n",
            "---  ------                     --------------  -----  \n",
            " 0   EmployerName               59103 non-null  object \n",
            " 1   EmployerId                 59103 non-null  int64  \n",
            " 2   Address                    59045 non-null  object \n",
            " 3   PostCode                   58869 non-null  object \n",
            " 4   CompanyNumber              51345 non-null  object \n",
            " 5   SicCodes                   55408 non-null  object \n",
            " 6   DiffMeanHourlyPercent      59103 non-null  float64\n",
            " 7   DiffMedianHourlyPercent    59103 non-null  float64\n",
            " 8   DiffMeanBonusPercent       47598 non-null  float64\n",
            " 9   DiffMedianBonusPercent     47596 non-null  float64\n",
            " 10  MaleBonusPercent           59103 non-null  float64\n",
            " 11  FemaleBonusPercent         59103 non-null  float64\n",
            " 12  MaleLowerQuartile          58709 non-null  float64\n",
            " 13  FemaleLowerQuartile        58709 non-null  float64\n",
            " 14  MaleLowerMiddleQuartile    58709 non-null  float64\n",
            " 15  FemaleLowerMiddleQuartile  58709 non-null  float64\n",
            " 16  MaleUpperMiddleQuartile    58709 non-null  float64\n",
            " 17  FemaleUpperMiddleQuartile  58709 non-null  float64\n",
            " 18  MaleTopQuartile            58709 non-null  float64\n",
            " 19  FemaleTopQuartile          58709 non-null  float64\n",
            " 20  CompanyLinkToGPGInfo       39329 non-null  object \n",
            " 21  ResponsiblePerson          48999 non-null  object \n",
            " 22  EmployerSize               59103 non-null  object \n",
            " 23  CurrentName                59103 non-null  object \n",
            " 24  SubmittedAfterTheDeadline  59103 non-null  bool   \n",
            " 25  DueDate                    59103 non-null  object \n",
            " 26  DateSubmitted              59103 non-null  object \n",
            " 27  Year                       59103 non-null  int64  \n",
            "dtypes: bool(1), float64(14), int64(2), object(11)\n",
            "memory usage: 12.2+ MB\n"
          ]
        }
      ],
      "source": [
        "combined_data.info()"
      ]
    },
    {
      "cell_type": "code",
      "execution_count": null,
      "metadata": {
        "id": "JNq3zf6VvBJ-"
      },
      "outputs": [],
      "source": [
        "# combined_data is DataFrame with the gender pay gap data\n",
        "# Extract postcode area from PostCode column\n",
        "combined_data['PostcodeArea'] = combined_data['PostCode'].str.extract(r'^([A-Z]{1,2})', expand=False)\n",
        "\n",
        "# Load the CSV with postcode area mappings using a different encoding\n",
        "postcode_area_mapping = pd.read_csv('/content/drive/MyDrive/Postcode outers  starter file.csv', encoding='latin1')\n",
        "import pandas as pd\n",
        "\n",
        "# Create a dictionary mapping postcode areas to regions\n",
        "postcode_area_to_region = dict(zip(postcode_area_mapping['Postcode area'], postcode_area_mapping['Country']))\n",
        "\n",
        "# Map postcode areas to regions\n",
        "combined_data['Region'] = combined_data['PostcodeArea'].map(postcode_area_to_region)\n"
      ]
    },
    {
      "cell_type": "code",
      "execution_count": null,
      "metadata": {
        "id": "RcORsbepMgvq"
      },
      "outputs": [],
      "source": [
        "# Define a dictionary mapping SIC codes to finance sectors\n",
        "finance_sectors = {\n",
        "    '64110': 'Banking',\n",
        "    '64191': 'Banking',\n",
        "    '65110': 'Insurance',\n",
        "    '65120': 'Insurance',\n",
        "    '65201': 'Insurance',\n",
        "    '65202': 'Insurance',\n",
        "    '66220': 'Insurance',\n",
        "    '66210': 'Insurance',\n",
        "    '66290': 'Insurance',\n",
        "    '64192': 'Building Societies',\n",
        "    '64201': 'Financial Holding Company',\n",
        "    '64202': 'Financial Holding Company',\n",
        "    '64203': 'Financial Holding Company',\n",
        "    '64204': 'Financial Holding Company',\n",
        "    '64205': 'Financial Holding Company',\n",
        "    '64209': 'Financial Holding Company',\n",
        "    '64205': 'Financial services',\n",
        "    '64301': 'Investment',\n",
        "    '64302': 'Investment',\n",
        "    '64303': 'Investment',\n",
        "    '64304': 'Investment',\n",
        "    '64305': 'Investment',\n",
        "    '64306': 'Investment',\n",
        "    '66110': 'Other Finance',\n",
        "    '66120': 'Other Finance',\n",
        "    '66190': 'Other Finance',\n",
        "    '66300': 'Other Finance',\n",
        "    '64921': 'Other Finance',\n",
        "    '64922': 'Other Finance',\n",
        "    '64929': 'Other Finance',\n",
        "    '64991': 'Other Finance',\n",
        "    '64992': 'Other Finance',\n",
        "    '64999': 'Other Finance',\n",
        "    '64910': 'Other Finance'\n",
        "}\n",
        "\n",
        "# Extract the first SIC code\n",
        "combined_data['SicCodes'] = combined_data['SicCodes'].str.extract(r'(\\d+)')\n",
        "\n",
        "# Create a new column 'FinanceSector' based on the mapping\n",
        "combined_data['FinanceSector'] = combined_data['SicCodes'].map(finance_sectors)\n",
        "\n"
      ]
    },
    {
      "cell_type": "code",
      "source": [
        "# Define a list of finance sectors you want to filter for\n",
        "finance_sectors_to_filter = ['Banking', 'Insurance', 'Building Societies', 'Financial Holding Company', 'Investment','Financial services', 'Other Finance']\n",
        "\n",
        "# Filter the data based on the finance sectors list\n",
        "filtered_data = combined_data[combined_data['FinanceSector'].isin(finance_sectors_to_filter)]\n"
      ],
      "metadata": {
        "id": "mjPd6TKtbEYm"
      },
      "execution_count": null,
      "outputs": []
    },
    {
      "cell_type": "code",
      "source": [
        "filtered_data.columns"
      ],
      "metadata": {
        "colab": {
          "base_uri": "https://localhost:8080/"
        },
        "id": "h0cPp0dabzP8",
        "outputId": "219598f6-19cb-4e5c-8f16-1c8edf754d3d"
      },
      "execution_count": null,
      "outputs": [
        {
          "output_type": "execute_result",
          "data": {
            "text/plain": [
              "Index(['EmployerName', 'EmployerId', 'Address', 'PostCode', 'CompanyNumber',\n",
              "       'SicCodes', 'DiffMeanHourlyPercent', 'DiffMedianHourlyPercent',\n",
              "       'DiffMeanBonusPercent', 'DiffMedianBonusPercent', 'MaleBonusPercent',\n",
              "       'FemaleBonusPercent', 'MaleLowerQuartile', 'FemaleLowerQuartile',\n",
              "       'MaleLowerMiddleQuartile', 'FemaleLowerMiddleQuartile',\n",
              "       'MaleUpperMiddleQuartile', 'FemaleUpperMiddleQuartile',\n",
              "       'MaleTopQuartile', 'FemaleTopQuartile', 'CompanyLinkToGPGInfo',\n",
              "       'ResponsiblePerson', 'EmployerSize', 'CurrentName',\n",
              "       'SubmittedAfterTheDeadline', 'DueDate', 'DateSubmitted', 'Year',\n",
              "       'PostcodeArea', 'Region', 'FinanceSector'],\n",
              "      dtype='object')"
            ]
          },
          "metadata": {},
          "execution_count": 6
        }
      ]
    },
    {
      "cell_type": "code",
      "source": [
        "# Define the columns to drop\n",
        "columns_to_drop = ['PostcodeArea',  'CompanyLinkToGPGInfo', 'ResponsiblePerson', 'EmployerId', 'Address', 'CompanyNumber', 'CurrentName', 'SubmittedAfterTheDeadline', 'DueDate', 'DateSubmitted']\n",
        "\n",
        "# Drop the specified columns\n",
        "filtered_data = filtered_data.drop(columns=columns_to_drop)\n"
      ],
      "metadata": {
        "id": "ve-UaLh6fsn9"
      },
      "execution_count": null,
      "outputs": []
    },
    {
      "cell_type": "code",
      "source": [
        "filtered_data.columns"
      ],
      "metadata": {
        "colab": {
          "base_uri": "https://localhost:8080/"
        },
        "id": "R-uoEbxjgltl",
        "outputId": "5da79d47-2f85-48a6-8ece-c113ce7d1e64"
      },
      "execution_count": null,
      "outputs": [
        {
          "output_type": "execute_result",
          "data": {
            "text/plain": [
              "Index(['EmployerName', 'PostCode', 'SicCodes', 'DiffMeanHourlyPercent',\n",
              "       'DiffMedianHourlyPercent', 'DiffMeanBonusPercent',\n",
              "       'DiffMedianBonusPercent', 'MaleBonusPercent', 'FemaleBonusPercent',\n",
              "       'MaleLowerQuartile', 'FemaleLowerQuartile', 'MaleLowerMiddleQuartile',\n",
              "       'FemaleLowerMiddleQuartile', 'MaleUpperMiddleQuartile',\n",
              "       'FemaleUpperMiddleQuartile', 'MaleTopQuartile', 'FemaleTopQuartile',\n",
              "       'EmployerSize', 'Year', 'Region', 'FinanceSector'],\n",
              "      dtype='object')"
            ]
          },
          "metadata": {},
          "execution_count": 8
        }
      ]
    },
    {
      "cell_type": "code",
      "source": [
        "# Define the desired column order\n",
        "desired_column_order = ['Year', 'EmployerName', 'SicCodes', 'PostCode', 'EmployerSize', 'FinanceSector', 'Region', 'DiffMeanHourlyPercent', 'DiffMedianHourlyPercent', 'DiffMeanBonusPercent', 'DiffMedianBonusPercent', 'MaleBonusPercent', 'FemaleBonusPercent', 'MaleLowerQuartile', 'FemaleLowerQuartile', 'MaleLowerMiddleQuartile', 'FemaleLowerMiddleQuartile', 'MaleUpperMiddleQuartile', 'FemaleUpperMiddleQuartile', 'MaleTopQuartile', 'FemaleTopQuartile']\n",
        "\n",
        "# Reorder the columns\n",
        "filtered_data = filtered_data[desired_column_order]\n"
      ],
      "metadata": {
        "id": "8e3KGOyJh0Uc"
      },
      "execution_count": null,
      "outputs": []
    },
    {
      "cell_type": "code",
      "source": [
        "filtered_data.info()"
      ],
      "metadata": {
        "colab": {
          "base_uri": "https://localhost:8080/"
        },
        "id": "N_dvNlqI51Q4",
        "outputId": "c92f36dd-733c-4d76-ef1a-dbe0ca36c419"
      },
      "execution_count": null,
      "outputs": [
        {
          "output_type": "stream",
          "name": "stdout",
          "text": [
            "<class 'pandas.core.frame.DataFrame'>\n",
            "Int64Index: 2392 entries, 35 to 59100\n",
            "Data columns (total 21 columns):\n",
            " #   Column                     Non-Null Count  Dtype  \n",
            "---  ------                     --------------  -----  \n",
            " 0   Year                       2392 non-null   int64  \n",
            " 1   EmployerName               2392 non-null   object \n",
            " 2   SicCodes                   2392 non-null   object \n",
            " 3   PostCode                   2384 non-null   object \n",
            " 4   EmployerSize               2392 non-null   object \n",
            " 5   FinanceSector              2392 non-null   object \n",
            " 6   Region                     2384 non-null   object \n",
            " 7   DiffMeanHourlyPercent      2392 non-null   float64\n",
            " 8   DiffMedianHourlyPercent    2392 non-null   float64\n",
            " 9   DiffMeanBonusPercent       2338 non-null   float64\n",
            " 10  DiffMedianBonusPercent     2337 non-null   float64\n",
            " 11  MaleBonusPercent           2392 non-null   float64\n",
            " 12  FemaleBonusPercent         2392 non-null   float64\n",
            " 13  MaleLowerQuartile          2390 non-null   float64\n",
            " 14  FemaleLowerQuartile        2390 non-null   float64\n",
            " 15  MaleLowerMiddleQuartile    2390 non-null   float64\n",
            " 16  FemaleLowerMiddleQuartile  2390 non-null   float64\n",
            " 17  MaleUpperMiddleQuartile    2390 non-null   float64\n",
            " 18  FemaleUpperMiddleQuartile  2390 non-null   float64\n",
            " 19  MaleTopQuartile            2390 non-null   float64\n",
            " 20  FemaleTopQuartile          2390 non-null   float64\n",
            "dtypes: float64(14), int64(1), object(6)\n",
            "memory usage: 411.1+ KB\n"
          ]
        }
      ]
    },
    {
      "cell_type": "code",
      "source": [],
      "metadata": {
        "id": "-YJiWjqP8H5L"
      },
      "execution_count": null,
      "outputs": []
    },
    {
      "cell_type": "code",
      "source": [
        "# Drop rows with missing values\n",
        "filtered_data = filtered_data.dropna()\n",
        "\n",
        "# Reset the index\n",
        "filtered_data.reset_index(drop=True, inplace=True)\n"
      ],
      "metadata": {
        "id": "QPZw2A-g8B0d"
      },
      "execution_count": null,
      "outputs": []
    },
    {
      "cell_type": "code",
      "source": [
        "filtered_data.info()"
      ],
      "metadata": {
        "colab": {
          "base_uri": "https://localhost:8080/"
        },
        "id": "79-jE2538I7k",
        "outputId": "a1e9151c-8f6f-484c-8912-d258d30587b1"
      },
      "execution_count": null,
      "outputs": [
        {
          "output_type": "stream",
          "name": "stdout",
          "text": [
            "<class 'pandas.core.frame.DataFrame'>\n",
            "RangeIndex: 2327 entries, 0 to 2326\n",
            "Data columns (total 21 columns):\n",
            " #   Column                     Non-Null Count  Dtype  \n",
            "---  ------                     --------------  -----  \n",
            " 0   Year                       2327 non-null   int64  \n",
            " 1   EmployerName               2327 non-null   object \n",
            " 2   SicCodes                   2327 non-null   object \n",
            " 3   PostCode                   2327 non-null   object \n",
            " 4   EmployerSize               2327 non-null   object \n",
            " 5   FinanceSector              2327 non-null   object \n",
            " 6   Region                     2327 non-null   object \n",
            " 7   DiffMeanHourlyPercent      2327 non-null   float64\n",
            " 8   DiffMedianHourlyPercent    2327 non-null   float64\n",
            " 9   DiffMeanBonusPercent       2327 non-null   float64\n",
            " 10  DiffMedianBonusPercent     2327 non-null   float64\n",
            " 11  MaleBonusPercent           2327 non-null   float64\n",
            " 12  FemaleBonusPercent         2327 non-null   float64\n",
            " 13  MaleLowerQuartile          2327 non-null   float64\n",
            " 14  FemaleLowerQuartile        2327 non-null   float64\n",
            " 15  MaleLowerMiddleQuartile    2327 non-null   float64\n",
            " 16  FemaleLowerMiddleQuartile  2327 non-null   float64\n",
            " 17  MaleUpperMiddleQuartile    2327 non-null   float64\n",
            " 18  FemaleUpperMiddleQuartile  2327 non-null   float64\n",
            " 19  MaleTopQuartile            2327 non-null   float64\n",
            " 20  FemaleTopQuartile          2327 non-null   float64\n",
            "dtypes: float64(14), int64(1), object(6)\n",
            "memory usage: 381.9+ KB\n"
          ]
        }
      ]
    },
    {
      "cell_type": "code",
      "source": [
        "filtered_data.head(10)"
      ],
      "metadata": {
        "colab": {
          "base_uri": "https://localhost:8080/",
          "height": 828
        },
        "id": "l47M1upvr_CT",
        "outputId": "61651f84-e628-4150-aaa1-5e47d8733805"
      },
      "execution_count": null,
      "outputs": [
        {
          "output_type": "execute_result",
          "data": {
            "text/plain": [
              "   Year                                    EmployerName SicCodes  PostCode  \\\n",
              "0  2017                                 A-Plan Holdings    66220  OX28 4LE   \n",
              "1  2017                   Aberdeen Asset Management PLC    64205  AB10 1XL   \n",
              "2  2017                 ABERDEEN ASSET MANAGERS LIMITED    64999  AB10 1XL   \n",
              "3  2017                 ACCOMPLISH GROUP HOLDCO LIMITED    64209   B63 4AH   \n",
              "4  2017                                     Acepark Ltd    64209   PR6 9AF   \n",
              "5  2017  ACORN INSURANCE AND FINANCIAL SERVICES LIMITED    65120   L37 6BS   \n",
              "6  2017                          ACT (HOLDINGS) LIMITED    64209  CF24 5ET   \n",
              "7  2017                               Admiral Group PLC    65120  CF10 2EH   \n",
              "8  2017                  Adrian Flux Insurance Services    66220  PE32 1HN   \n",
              "9  2017                         ADVANTIS CREDIT LIMITED    64921  EC3R 8LJ   \n",
              "\n",
              "     EmployerSize              FinanceSector    Region  DiffMeanHourlyPercent  \\\n",
              "0    1000 to 4999                  Insurance   England                   24.3   \n",
              "1  5000 to 19,999         Financial services  Scotland                   28.0   \n",
              "2  5000 to 19,999              Other Finance  Scotland                   37.0   \n",
              "3    1000 to 4999  Financial Holding Company   England                    3.7   \n",
              "4      250 to 499  Financial Holding Company   England                   26.2   \n",
              "5      250 to 499                  Insurance   England                    3.4   \n",
              "6      250 to 499  Financial Holding Company     Wales                   -1.9   \n",
              "7  5000 to 19,999                  Insurance     Wales                   13.6   \n",
              "8      500 to 999                  Insurance   England                   37.9   \n",
              "9      250 to 499              Other Finance   England                   10.4   \n",
              "\n",
              "   DiffMedianHourlyPercent  DiffMeanBonusPercent  ...  MaleBonusPercent  \\\n",
              "0                     12.1                  56.1  ...              16.0   \n",
              "1                     20.0                  72.0  ...              85.0   \n",
              "2                     37.0                  67.0  ...              95.0   \n",
              "3                      0.9                   9.0  ...              11.0   \n",
              "4                     11.0                  52.6  ...               8.5   \n",
              "5                     -5.9                  19.1  ...              72.0   \n",
              "6                      0.0                  31.3  ...              16.3   \n",
              "7                      3.9                  28.8  ...              92.8   \n",
              "8                      7.4                  88.4  ...              33.3   \n",
              "9                      2.7                  66.9  ...              35.1   \n",
              "\n",
              "   FemaleBonusPercent  MaleLowerQuartile  FemaleLowerQuartile  \\\n",
              "0                 3.0               45.0                 55.0   \n",
              "1                93.0               51.0                 49.0   \n",
              "2                91.0               46.0                 54.0   \n",
              "3                 9.4               38.0                 62.0   \n",
              "4                 9.7               38.7                 61.3   \n",
              "5                57.3               58.0                 42.0   \n",
              "6                 6.9               29.5                 70.5   \n",
              "7                89.9               48.0                 52.0   \n",
              "8                26.8               38.0                 62.0   \n",
              "9                26.2               39.1                 60.9   \n",
              "\n",
              "   MaleLowerMiddleQuartile  FemaleLowerMiddleQuartile  \\\n",
              "0                     51.0                       49.0   \n",
              "1                     43.0                       57.0   \n",
              "2                     56.0                       44.0   \n",
              "3                     40.0                       60.0   \n",
              "4                     39.2                       60.8   \n",
              "5                     51.9                       48.1   \n",
              "6                     35.2                       64.8   \n",
              "7                     47.0                       53.0   \n",
              "8                     31.8                       68.2   \n",
              "9                     47.8                       52.2   \n",
              "\n",
              "   MaleUpperMiddleQuartile  FemaleUpperMiddleQuartile  MaleTopQuartile  \\\n",
              "0                     60.0                       40.0             73.0   \n",
              "1                     57.0                       43.0             71.0   \n",
              "2                     73.0                       27.0             82.0   \n",
              "3                     39.0                       61.0             41.0   \n",
              "4                     54.1                       45.9             59.5   \n",
              "5                     46.9                       53.1             50.0   \n",
              "6                     28.4                       71.6             25.0   \n",
              "7                     49.0                       51.0             60.0   \n",
              "8                     33.0                       67.0             61.2   \n",
              "9                     47.8                       52.2             55.1   \n",
              "\n",
              "   FemaleTopQuartile  \n",
              "0               27.0  \n",
              "1               29.0  \n",
              "2               18.0  \n",
              "3               59.0  \n",
              "4               40.5  \n",
              "5               50.0  \n",
              "6               75.0  \n",
              "7               40.0  \n",
              "8               38.8  \n",
              "9               44.9  \n",
              "\n",
              "[10 rows x 21 columns]"
            ],
            "text/html": [
              "\n",
              "  <div id=\"df-45e674da-21cc-4721-8a51-c1fbd88079e4\" class=\"colab-df-container\">\n",
              "    <div>\n",
              "<style scoped>\n",
              "    .dataframe tbody tr th:only-of-type {\n",
              "        vertical-align: middle;\n",
              "    }\n",
              "\n",
              "    .dataframe tbody tr th {\n",
              "        vertical-align: top;\n",
              "    }\n",
              "\n",
              "    .dataframe thead th {\n",
              "        text-align: right;\n",
              "    }\n",
              "</style>\n",
              "<table border=\"1\" class=\"dataframe\">\n",
              "  <thead>\n",
              "    <tr style=\"text-align: right;\">\n",
              "      <th></th>\n",
              "      <th>Year</th>\n",
              "      <th>EmployerName</th>\n",
              "      <th>SicCodes</th>\n",
              "      <th>PostCode</th>\n",
              "      <th>EmployerSize</th>\n",
              "      <th>FinanceSector</th>\n",
              "      <th>Region</th>\n",
              "      <th>DiffMeanHourlyPercent</th>\n",
              "      <th>DiffMedianHourlyPercent</th>\n",
              "      <th>DiffMeanBonusPercent</th>\n",
              "      <th>...</th>\n",
              "      <th>MaleBonusPercent</th>\n",
              "      <th>FemaleBonusPercent</th>\n",
              "      <th>MaleLowerQuartile</th>\n",
              "      <th>FemaleLowerQuartile</th>\n",
              "      <th>MaleLowerMiddleQuartile</th>\n",
              "      <th>FemaleLowerMiddleQuartile</th>\n",
              "      <th>MaleUpperMiddleQuartile</th>\n",
              "      <th>FemaleUpperMiddleQuartile</th>\n",
              "      <th>MaleTopQuartile</th>\n",
              "      <th>FemaleTopQuartile</th>\n",
              "    </tr>\n",
              "  </thead>\n",
              "  <tbody>\n",
              "    <tr>\n",
              "      <th>0</th>\n",
              "      <td>2017</td>\n",
              "      <td>A-Plan Holdings</td>\n",
              "      <td>66220</td>\n",
              "      <td>OX28 4LE</td>\n",
              "      <td>1000 to 4999</td>\n",
              "      <td>Insurance</td>\n",
              "      <td>England</td>\n",
              "      <td>24.3</td>\n",
              "      <td>12.1</td>\n",
              "      <td>56.1</td>\n",
              "      <td>...</td>\n",
              "      <td>16.0</td>\n",
              "      <td>3.0</td>\n",
              "      <td>45.0</td>\n",
              "      <td>55.0</td>\n",
              "      <td>51.0</td>\n",
              "      <td>49.0</td>\n",
              "      <td>60.0</td>\n",
              "      <td>40.0</td>\n",
              "      <td>73.0</td>\n",
              "      <td>27.0</td>\n",
              "    </tr>\n",
              "    <tr>\n",
              "      <th>1</th>\n",
              "      <td>2017</td>\n",
              "      <td>Aberdeen Asset Management PLC</td>\n",
              "      <td>64205</td>\n",
              "      <td>AB10 1XL</td>\n",
              "      <td>5000 to 19,999</td>\n",
              "      <td>Financial services</td>\n",
              "      <td>Scotland</td>\n",
              "      <td>28.0</td>\n",
              "      <td>20.0</td>\n",
              "      <td>72.0</td>\n",
              "      <td>...</td>\n",
              "      <td>85.0</td>\n",
              "      <td>93.0</td>\n",
              "      <td>51.0</td>\n",
              "      <td>49.0</td>\n",
              "      <td>43.0</td>\n",
              "      <td>57.0</td>\n",
              "      <td>57.0</td>\n",
              "      <td>43.0</td>\n",
              "      <td>71.0</td>\n",
              "      <td>29.0</td>\n",
              "    </tr>\n",
              "    <tr>\n",
              "      <th>2</th>\n",
              "      <td>2017</td>\n",
              "      <td>ABERDEEN ASSET MANAGERS LIMITED</td>\n",
              "      <td>64999</td>\n",
              "      <td>AB10 1XL</td>\n",
              "      <td>5000 to 19,999</td>\n",
              "      <td>Other Finance</td>\n",
              "      <td>Scotland</td>\n",
              "      <td>37.0</td>\n",
              "      <td>37.0</td>\n",
              "      <td>67.0</td>\n",
              "      <td>...</td>\n",
              "      <td>95.0</td>\n",
              "      <td>91.0</td>\n",
              "      <td>46.0</td>\n",
              "      <td>54.0</td>\n",
              "      <td>56.0</td>\n",
              "      <td>44.0</td>\n",
              "      <td>73.0</td>\n",
              "      <td>27.0</td>\n",
              "      <td>82.0</td>\n",
              "      <td>18.0</td>\n",
              "    </tr>\n",
              "    <tr>\n",
              "      <th>3</th>\n",
              "      <td>2017</td>\n",
              "      <td>ACCOMPLISH GROUP HOLDCO LIMITED</td>\n",
              "      <td>64209</td>\n",
              "      <td>B63 4AH</td>\n",
              "      <td>1000 to 4999</td>\n",
              "      <td>Financial Holding Company</td>\n",
              "      <td>England</td>\n",
              "      <td>3.7</td>\n",
              "      <td>0.9</td>\n",
              "      <td>9.0</td>\n",
              "      <td>...</td>\n",
              "      <td>11.0</td>\n",
              "      <td>9.4</td>\n",
              "      <td>38.0</td>\n",
              "      <td>62.0</td>\n",
              "      <td>40.0</td>\n",
              "      <td>60.0</td>\n",
              "      <td>39.0</td>\n",
              "      <td>61.0</td>\n",
              "      <td>41.0</td>\n",
              "      <td>59.0</td>\n",
              "    </tr>\n",
              "    <tr>\n",
              "      <th>4</th>\n",
              "      <td>2017</td>\n",
              "      <td>Acepark Ltd</td>\n",
              "      <td>64209</td>\n",
              "      <td>PR6 9AF</td>\n",
              "      <td>250 to 499</td>\n",
              "      <td>Financial Holding Company</td>\n",
              "      <td>England</td>\n",
              "      <td>26.2</td>\n",
              "      <td>11.0</td>\n",
              "      <td>52.6</td>\n",
              "      <td>...</td>\n",
              "      <td>8.5</td>\n",
              "      <td>9.7</td>\n",
              "      <td>38.7</td>\n",
              "      <td>61.3</td>\n",
              "      <td>39.2</td>\n",
              "      <td>60.8</td>\n",
              "      <td>54.1</td>\n",
              "      <td>45.9</td>\n",
              "      <td>59.5</td>\n",
              "      <td>40.5</td>\n",
              "    </tr>\n",
              "    <tr>\n",
              "      <th>5</th>\n",
              "      <td>2017</td>\n",
              "      <td>ACORN INSURANCE AND FINANCIAL SERVICES LIMITED</td>\n",
              "      <td>65120</td>\n",
              "      <td>L37 6BS</td>\n",
              "      <td>250 to 499</td>\n",
              "      <td>Insurance</td>\n",
              "      <td>England</td>\n",
              "      <td>3.4</td>\n",
              "      <td>-5.9</td>\n",
              "      <td>19.1</td>\n",
              "      <td>...</td>\n",
              "      <td>72.0</td>\n",
              "      <td>57.3</td>\n",
              "      <td>58.0</td>\n",
              "      <td>42.0</td>\n",
              "      <td>51.9</td>\n",
              "      <td>48.1</td>\n",
              "      <td>46.9</td>\n",
              "      <td>53.1</td>\n",
              "      <td>50.0</td>\n",
              "      <td>50.0</td>\n",
              "    </tr>\n",
              "    <tr>\n",
              "      <th>6</th>\n",
              "      <td>2017</td>\n",
              "      <td>ACT (HOLDINGS) LIMITED</td>\n",
              "      <td>64209</td>\n",
              "      <td>CF24 5ET</td>\n",
              "      <td>250 to 499</td>\n",
              "      <td>Financial Holding Company</td>\n",
              "      <td>Wales</td>\n",
              "      <td>-1.9</td>\n",
              "      <td>0.0</td>\n",
              "      <td>31.3</td>\n",
              "      <td>...</td>\n",
              "      <td>16.3</td>\n",
              "      <td>6.9</td>\n",
              "      <td>29.5</td>\n",
              "      <td>70.5</td>\n",
              "      <td>35.2</td>\n",
              "      <td>64.8</td>\n",
              "      <td>28.4</td>\n",
              "      <td>71.6</td>\n",
              "      <td>25.0</td>\n",
              "      <td>75.0</td>\n",
              "    </tr>\n",
              "    <tr>\n",
              "      <th>7</th>\n",
              "      <td>2017</td>\n",
              "      <td>Admiral Group PLC</td>\n",
              "      <td>65120</td>\n",
              "      <td>CF10 2EH</td>\n",
              "      <td>5000 to 19,999</td>\n",
              "      <td>Insurance</td>\n",
              "      <td>Wales</td>\n",
              "      <td>13.6</td>\n",
              "      <td>3.9</td>\n",
              "      <td>28.8</td>\n",
              "      <td>...</td>\n",
              "      <td>92.8</td>\n",
              "      <td>89.9</td>\n",
              "      <td>48.0</td>\n",
              "      <td>52.0</td>\n",
              "      <td>47.0</td>\n",
              "      <td>53.0</td>\n",
              "      <td>49.0</td>\n",
              "      <td>51.0</td>\n",
              "      <td>60.0</td>\n",
              "      <td>40.0</td>\n",
              "    </tr>\n",
              "    <tr>\n",
              "      <th>8</th>\n",
              "      <td>2017</td>\n",
              "      <td>Adrian Flux Insurance Services</td>\n",
              "      <td>66220</td>\n",
              "      <td>PE32 1HN</td>\n",
              "      <td>500 to 999</td>\n",
              "      <td>Insurance</td>\n",
              "      <td>England</td>\n",
              "      <td>37.9</td>\n",
              "      <td>7.4</td>\n",
              "      <td>88.4</td>\n",
              "      <td>...</td>\n",
              "      <td>33.3</td>\n",
              "      <td>26.8</td>\n",
              "      <td>38.0</td>\n",
              "      <td>62.0</td>\n",
              "      <td>31.8</td>\n",
              "      <td>68.2</td>\n",
              "      <td>33.0</td>\n",
              "      <td>67.0</td>\n",
              "      <td>61.2</td>\n",
              "      <td>38.8</td>\n",
              "    </tr>\n",
              "    <tr>\n",
              "      <th>9</th>\n",
              "      <td>2017</td>\n",
              "      <td>ADVANTIS CREDIT LIMITED</td>\n",
              "      <td>64921</td>\n",
              "      <td>EC3R 8LJ</td>\n",
              "      <td>250 to 499</td>\n",
              "      <td>Other Finance</td>\n",
              "      <td>England</td>\n",
              "      <td>10.4</td>\n",
              "      <td>2.7</td>\n",
              "      <td>66.9</td>\n",
              "      <td>...</td>\n",
              "      <td>35.1</td>\n",
              "      <td>26.2</td>\n",
              "      <td>39.1</td>\n",
              "      <td>60.9</td>\n",
              "      <td>47.8</td>\n",
              "      <td>52.2</td>\n",
              "      <td>47.8</td>\n",
              "      <td>52.2</td>\n",
              "      <td>55.1</td>\n",
              "      <td>44.9</td>\n",
              "    </tr>\n",
              "  </tbody>\n",
              "</table>\n",
              "<p>10 rows × 21 columns</p>\n",
              "</div>\n",
              "    <div class=\"colab-df-buttons\">\n",
              "\n",
              "  <div class=\"colab-df-container\">\n",
              "    <button class=\"colab-df-convert\" onclick=\"convertToInteractive('df-45e674da-21cc-4721-8a51-c1fbd88079e4')\"\n",
              "            title=\"Convert this dataframe to an interactive table.\"\n",
              "            style=\"display:none;\">\n",
              "\n",
              "  <svg xmlns=\"http://www.w3.org/2000/svg\" height=\"24px\" viewBox=\"0 -960 960 960\">\n",
              "    <path d=\"M120-120v-720h720v720H120Zm60-500h600v-160H180v160Zm220 220h160v-160H400v160Zm0 220h160v-160H400v160ZM180-400h160v-160H180v160Zm440 0h160v-160H620v160ZM180-180h160v-160H180v160Zm440 0h160v-160H620v160Z\"/>\n",
              "  </svg>\n",
              "    </button>\n",
              "\n",
              "  <style>\n",
              "    .colab-df-container {\n",
              "      display:flex;\n",
              "      gap: 12px;\n",
              "    }\n",
              "\n",
              "    .colab-df-convert {\n",
              "      background-color: #E8F0FE;\n",
              "      border: none;\n",
              "      border-radius: 50%;\n",
              "      cursor: pointer;\n",
              "      display: none;\n",
              "      fill: #1967D2;\n",
              "      height: 32px;\n",
              "      padding: 0 0 0 0;\n",
              "      width: 32px;\n",
              "    }\n",
              "\n",
              "    .colab-df-convert:hover {\n",
              "      background-color: #E2EBFA;\n",
              "      box-shadow: 0px 1px 2px rgba(60, 64, 67, 0.3), 0px 1px 3px 1px rgba(60, 64, 67, 0.15);\n",
              "      fill: #174EA6;\n",
              "    }\n",
              "\n",
              "    .colab-df-buttons div {\n",
              "      margin-bottom: 4px;\n",
              "    }\n",
              "\n",
              "    [theme=dark] .colab-df-convert {\n",
              "      background-color: #3B4455;\n",
              "      fill: #D2E3FC;\n",
              "    }\n",
              "\n",
              "    [theme=dark] .colab-df-convert:hover {\n",
              "      background-color: #434B5C;\n",
              "      box-shadow: 0px 1px 3px 1px rgba(0, 0, 0, 0.15);\n",
              "      filter: drop-shadow(0px 1px 2px rgba(0, 0, 0, 0.3));\n",
              "      fill: #FFFFFF;\n",
              "    }\n",
              "  </style>\n",
              "\n",
              "    <script>\n",
              "      const buttonEl =\n",
              "        document.querySelector('#df-45e674da-21cc-4721-8a51-c1fbd88079e4 button.colab-df-convert');\n",
              "      buttonEl.style.display =\n",
              "        google.colab.kernel.accessAllowed ? 'block' : 'none';\n",
              "\n",
              "      async function convertToInteractive(key) {\n",
              "        const element = document.querySelector('#df-45e674da-21cc-4721-8a51-c1fbd88079e4');\n",
              "        const dataTable =\n",
              "          await google.colab.kernel.invokeFunction('convertToInteractive',\n",
              "                                                    [key], {});\n",
              "        if (!dataTable) return;\n",
              "\n",
              "        const docLinkHtml = 'Like what you see? Visit the ' +\n",
              "          '<a target=\"_blank\" href=https://colab.research.google.com/notebooks/data_table.ipynb>data table notebook</a>'\n",
              "          + ' to learn more about interactive tables.';\n",
              "        element.innerHTML = '';\n",
              "        dataTable['output_type'] = 'display_data';\n",
              "        await google.colab.output.renderOutput(dataTable, element);\n",
              "        const docLink = document.createElement('div');\n",
              "        docLink.innerHTML = docLinkHtml;\n",
              "        element.appendChild(docLink);\n",
              "      }\n",
              "    </script>\n",
              "  </div>\n",
              "\n",
              "\n",
              "<div id=\"df-d73cbbf2-5d51-4434-ab36-3b8919ef40b0\">\n",
              "  <button class=\"colab-df-quickchart\" onclick=\"quickchart('df-d73cbbf2-5d51-4434-ab36-3b8919ef40b0')\"\n",
              "            title=\"Suggest charts\"\n",
              "            style=\"display:none;\">\n",
              "\n",
              "<svg xmlns=\"http://www.w3.org/2000/svg\" height=\"24px\"viewBox=\"0 0 24 24\"\n",
              "     width=\"24px\">\n",
              "    <g>\n",
              "        <path d=\"M19 3H5c-1.1 0-2 .9-2 2v14c0 1.1.9 2 2 2h14c1.1 0 2-.9 2-2V5c0-1.1-.9-2-2-2zM9 17H7v-7h2v7zm4 0h-2V7h2v10zm4 0h-2v-4h2v4z\"/>\n",
              "    </g>\n",
              "</svg>\n",
              "  </button>\n",
              "\n",
              "<style>\n",
              "  .colab-df-quickchart {\n",
              "      --bg-color: #E8F0FE;\n",
              "      --fill-color: #1967D2;\n",
              "      --hover-bg-color: #E2EBFA;\n",
              "      --hover-fill-color: #174EA6;\n",
              "      --disabled-fill-color: #AAA;\n",
              "      --disabled-bg-color: #DDD;\n",
              "  }\n",
              "\n",
              "  [theme=dark] .colab-df-quickchart {\n",
              "      --bg-color: #3B4455;\n",
              "      --fill-color: #D2E3FC;\n",
              "      --hover-bg-color: #434B5C;\n",
              "      --hover-fill-color: #FFFFFF;\n",
              "      --disabled-bg-color: #3B4455;\n",
              "      --disabled-fill-color: #666;\n",
              "  }\n",
              "\n",
              "  .colab-df-quickchart {\n",
              "    background-color: var(--bg-color);\n",
              "    border: none;\n",
              "    border-radius: 50%;\n",
              "    cursor: pointer;\n",
              "    display: none;\n",
              "    fill: var(--fill-color);\n",
              "    height: 32px;\n",
              "    padding: 0;\n",
              "    width: 32px;\n",
              "  }\n",
              "\n",
              "  .colab-df-quickchart:hover {\n",
              "    background-color: var(--hover-bg-color);\n",
              "    box-shadow: 0 1px 2px rgba(60, 64, 67, 0.3), 0 1px 3px 1px rgba(60, 64, 67, 0.15);\n",
              "    fill: var(--button-hover-fill-color);\n",
              "  }\n",
              "\n",
              "  .colab-df-quickchart-complete:disabled,\n",
              "  .colab-df-quickchart-complete:disabled:hover {\n",
              "    background-color: var(--disabled-bg-color);\n",
              "    fill: var(--disabled-fill-color);\n",
              "    box-shadow: none;\n",
              "  }\n",
              "\n",
              "  .colab-df-spinner {\n",
              "    border: 2px solid var(--fill-color);\n",
              "    border-color: transparent;\n",
              "    border-bottom-color: var(--fill-color);\n",
              "    animation:\n",
              "      spin 1s steps(1) infinite;\n",
              "  }\n",
              "\n",
              "  @keyframes spin {\n",
              "    0% {\n",
              "      border-color: transparent;\n",
              "      border-bottom-color: var(--fill-color);\n",
              "      border-left-color: var(--fill-color);\n",
              "    }\n",
              "    20% {\n",
              "      border-color: transparent;\n",
              "      border-left-color: var(--fill-color);\n",
              "      border-top-color: var(--fill-color);\n",
              "    }\n",
              "    30% {\n",
              "      border-color: transparent;\n",
              "      border-left-color: var(--fill-color);\n",
              "      border-top-color: var(--fill-color);\n",
              "      border-right-color: var(--fill-color);\n",
              "    }\n",
              "    40% {\n",
              "      border-color: transparent;\n",
              "      border-right-color: var(--fill-color);\n",
              "      border-top-color: var(--fill-color);\n",
              "    }\n",
              "    60% {\n",
              "      border-color: transparent;\n",
              "      border-right-color: var(--fill-color);\n",
              "    }\n",
              "    80% {\n",
              "      border-color: transparent;\n",
              "      border-right-color: var(--fill-color);\n",
              "      border-bottom-color: var(--fill-color);\n",
              "    }\n",
              "    90% {\n",
              "      border-color: transparent;\n",
              "      border-bottom-color: var(--fill-color);\n",
              "    }\n",
              "  }\n",
              "</style>\n",
              "\n",
              "  <script>\n",
              "    async function quickchart(key) {\n",
              "      const quickchartButtonEl =\n",
              "        document.querySelector('#' + key + ' button');\n",
              "      quickchartButtonEl.disabled = true;  // To prevent multiple clicks.\n",
              "      quickchartButtonEl.classList.add('colab-df-spinner');\n",
              "      try {\n",
              "        const charts = await google.colab.kernel.invokeFunction(\n",
              "            'suggestCharts', [key], {});\n",
              "      } catch (error) {\n",
              "        console.error('Error during call to suggestCharts:', error);\n",
              "      }\n",
              "      quickchartButtonEl.classList.remove('colab-df-spinner');\n",
              "      quickchartButtonEl.classList.add('colab-df-quickchart-complete');\n",
              "    }\n",
              "    (() => {\n",
              "      let quickchartButtonEl =\n",
              "        document.querySelector('#df-d73cbbf2-5d51-4434-ab36-3b8919ef40b0 button');\n",
              "      quickchartButtonEl.style.display =\n",
              "        google.colab.kernel.accessAllowed ? 'block' : 'none';\n",
              "    })();\n",
              "  </script>\n",
              "</div>\n",
              "    </div>\n",
              "  </div>\n"
            ]
          },
          "metadata": {},
          "execution_count": 18
        }
      ]
    },
    {
      "cell_type": "markdown",
      "source": [
        "### (b) Computation of Dataset Summary Metrics\n",
        "\n",
        "In my data analysis, I’ve calculated a range of summary metrics for my dataset and visualized the data distribution using a histogram\n",
        "\n",
        "I also selected several Key Performance Indicators (KPIs) to help understand the gender pay gap in different companies. Here's how I approached it:\n",
        "\n",
        "1. **Mean and Median Hourly Wage Gap**: I chose 'DiffMeanHourlyPercent' and 'DiffMedianHourlyPercent' as KPIs to measure the average and median differences in hourly wages between men and women. These metrics provide a clear picture of the wage disparity in terms of hourly pay.\n",
        "\n",
        "2. **Mean and Median Bonus Gap**: I selected 'DiffMeanBonusPercent' and 'DiffMedianBonusPercent' to measure the average and median differences in bonuses received by men and women. This helps understand if there's a significant difference in the way bonuses are distributed among genders.\n",
        "\n",
        "3. **Bonus Recipients**: I considered 'MaleBonusPercent' and 'FemaleBonusPercent' to measure the proportion of men and women who received a bonus. This can indicate if one gender is more likely to receive a bonus than the other.\n",
        "\n",
        "4. **Quartile Representation**: I used 'MaleLowerQuartile', 'FemaleLowerQuartile', 'MaleLowerMiddleQuartile', 'FemaleLowerMiddleQuartile', 'MaleUpperMiddleQuartile', 'FemaleUpperMiddleQuartile', 'MaleTopQuartile', and 'FemaleTopQuartile' to measure the representation of men and women in each wage quartile. These metrics can show if there's a gender imbalance in different wage categories within companies.\n",
        "\n",
        "5. **Employer Size**: I included 'EmployerSize' as a KPI to measure the size of the company. The size of a company can influence its gender pay gap, with larger companies often having more resources to address pay disparities.\n",
        "\n",
        "I also calculated this value for each Region  or FinanceSector to see how the gender pay gap varies across different parts of the country or between different sectors.\n",
        "\n"
      ],
      "metadata": {
        "id": "IrDXaJW2W8Mh"
      }
    },
    {
      "cell_type": "code",
      "source": [
        "\n",
        "# Selecting the columns of interest\n",
        "selected_columns = ['DiffMeanHourlyPercent', 'DiffMedianHourlyPercent', 'DiffMeanBonusPercent', 'DiffMedianBonusPercent']\n",
        "\n",
        "# Applying describe() to get summary statistics\n",
        "summary_stats = filtered_data[selected_columns].describe()\n",
        "\n",
        "# Print the summary statistics\n",
        "print(summary_stats)\n"
      ],
      "metadata": {
        "colab": {
          "base_uri": "https://localhost:8080/"
        },
        "id": "-os8e_EE-mh_",
        "outputId": "777935fb-c217-435f-bc8f-adf3619648da"
      },
      "execution_count": null,
      "outputs": [
        {
          "output_type": "stream",
          "name": "stdout",
          "text": [
            "       DiffMeanHourlyPercent  DiffMedianHourlyPercent  DiffMeanBonusPercent  \\\n",
            "count            2327.000000              2327.000000           2327.000000   \n",
            "mean               26.074736                22.907331             42.712372   \n",
            "std                13.329289                14.666416            124.152178   \n",
            "min               -63.030000               -80.700000          -5028.500000   \n",
            "25%                18.000000                12.700000             35.900000   \n",
            "50%                26.800000                23.600000             53.600000   \n",
            "75%                34.500000                33.000000             67.700000   \n",
            "max                76.600000                65.900000            104.900000   \n",
            "\n",
            "       DiffMedianBonusPercent  \n",
            "count             2327.000000  \n",
            "mean                26.773421  \n",
            "std                173.225766  \n",
            "min              -5566.700000  \n",
            "25%                 20.000000  \n",
            "50%                 37.900000  \n",
            "75%                 56.300000  \n",
            "max                100.000000  \n"
          ]
        }
      ]
    },
    {
      "cell_type": "markdown",
      "source": [],
      "metadata": {
        "id": "jL7_etiyvFYQ"
      }
    },
    {
      "cell_type": "code",
      "source": [
        "pay_gap_indicators =filtered_data[['DiffMeanHourlyPercent', 'DiffMedianHourlyPercent']]\n",
        "pay_gap_indicators.plot.hist(bins=100, alpha=0.5, figsize=(14,7),\n",
        "                             grid=True, title=\"Pay gap indicators histogram\")"
      ],
      "metadata": {
        "colab": {
          "base_uri": "https://localhost:8080/",
          "height": 595
        },
        "id": "FUPTUKwWQtfS",
        "outputId": "e92291bc-6dfe-44d4-8aa8-e46bab161c86"
      },
      "execution_count": null,
      "outputs": [
        {
          "output_type": "execute_result",
          "data": {
            "text/plain": [
              "<Axes: title={'center': 'Pay gap indicators histogram'}, ylabel='Frequency'>"
            ]
          },
          "metadata": {},
          "execution_count": 14
        },
        {
          "output_type": "display_data",
          "data": {
            "text/plain": [
              "<Figure size 1400x700 with 1 Axes>"
            ],
            "image/png": "[encoded data removed]"
          },
          "metadata": {}
        }
      ]
    },
    {
      "cell_type": "code",
      "source": [
        "# Assuming your cleaned DataFrame is called 'filtered_data'\n",
        "filtered_data.to_csv('cleaned_finance_gender_gap.csv', index=False)\n"
      ],
      "metadata": {
        "id": "t0ZpTeuCFJVk"
      },
      "execution_count": null,
      "outputs": []
    },
    {
      "cell_type": "markdown",
      "source": [
        "Looking at the data you provided, it seems there are extreme values (outliers) present, as indicated by the minimum and maximum values and the standard deviation. For example, the DiffMeanBonusPercent column has a minimum value of -5028.5 and a maximum value of 104.9, which is a huge range. The standard deviation is also quite large, indicating a wide spread of data.\n",
        "\n",
        "Given these characteristics, the median would be a more appropriate measure of central tendency for this data. The median would give a better representation of the “typical” value in each column, as it wouldn’t be skewed by the extreme values.\n",
        "\n",
        "In conclusion, due to the presence of outliers in the dataset, using the median for analysis would provide a more accurate representation of the central tendency of the data."
      ],
      "metadata": {
        "id": "Y7cQSu6U6oeP"
      }
    },
    {
      "cell_type": "markdown",
      "source": [
        "### (c) Interpreting Analysis for Insights\n",
        "\n",
        "\n",
        "**Difference in hourly rate**\n",
        "- Men’s hourly median rate is 22.9% greater than Women’s .\n",
        "\n",
        "In other words, when comparing median hourly rates, men earn £1.229 for every £1 that women earn.\n",
        "\n",
        "\n",
        "**Proportion of women in each pay quartile**\n",
        "- Top salary quartile has 69.9% men and 30.10% women.\n",
        "- Upper-middle salary quartile has 58.41% men and 41.59% women.\n",
        "- Lower-middle salary quartile has 49.44% men and 50.56% women.\n",
        "- Lower salary quartile has 42.51% men and 57.49% women.\n",
        "\n",
        "\n",
        "**Who received bonus pay**\n",
        "- 69.65% of men.\n",
        "\n",
        "- 67.97% of women.\n",
        "\n",
        "**Difference in bonus pay**\n",
        "- Men’s median bonus pay rate is 26.76% greater than Women’s .\n",
        "\n",
        "In other words, when comparing  median bonus pay rate, men earn £1.268 for every £1 that women earn."
      ],
      "metadata": {
        "id": "73hi0diXXWmV"
      }
    },
    {
      "cell_type": "markdown",
      "source": [
        "### (d) Crafting Visual Representations\n",
        "I utilized Power BI for data visualization and embedded the interactive report into Google Colab. This approach allowed for dynamic exploration of the data with diverse visualizations, enhancing the understanding of the gender pay gap data.\n"
      ],
      "metadata": {
        "id": "7tZlrhKFXk6C"
      }
    },
    {
      "cell_type": "code",
      "source": [
        "from IPython.display import display, HTML\n",
        "\n",
        "# Define the embed code\n",
        "embed_code = '''<iframe title=\"final gender gap \" width=\"1140\" height=\"541.25\" src=\"https://app.powerbi.com/reportEmbed?reportId=42df1fb0-a985-4de3-8a57-781032629417&autoAuth=true&ctid=de73f96d-8ea1-4b80-a6a2-5165bfd494db\" frameborder=\"0\" allowFullScreen=\"true\"></iframe>\n",
        "'''\n",
        "\n",
        "# Display in Google Colab\n",
        "display(HTML(embed_code))\n"
      ],
      "metadata": {
        "colab": {
          "base_uri": "https://localhost:8080/",
          "height": 583
        },
        "id": "wuzeQVkPvG4M",
        "outputId": "627b1d04-3c80-4ef4-9863-d97b11af9f74"
      },
      "execution_count": null,
      "outputs": [
        {
          "output_type": "display_data",
          "data": {
            "text/plain": [
              "<IPython.core.display.HTML object>"
            ],
            "text/html": [
              "<iframe title=\"final gender gap \" width=\"1140\" height=\"541.25\" src=\"https://app.powerbi.com/reportEmbed?reportId=42df1fb0-a985-4de3-8a57-781032629417&autoAuth=true&ctid=de73f96d-8ea1-4b80-a6a2-5165bfd494db\" frameborder=\"0\" allowFullScreen=\"true\"></iframe>\n"
            ]
          },
          "metadata": {}
        }
      ]
    }
  ],
  "metadata": {
    "colab": {
      "provenance": [],
      "mount_file_id": "146qcfWsU9adb-aqAJ0AfSazmTnkqobpE",
      "authorship_tag": "ABX9TyNyLBJGL6MPZS6mTardPCVl",
      "include_colab_link": true
    },
    "kernelspec": {
      "display_name": "Python 3",
      "name": "python3"
    },
    "language_info": {
      "name": "python"
    }
  },
  "nbformat": 4,
  "nbformat_minor": 0
}
